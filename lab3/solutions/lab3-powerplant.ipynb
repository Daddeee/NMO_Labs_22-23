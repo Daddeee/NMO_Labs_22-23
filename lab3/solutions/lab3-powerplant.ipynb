{
 "cells": [
  {
   "cell_type": "markdown",
   "id": "aedd867f",
   "metadata": {},
   "source": [
    "## Power plant capacity\n",
    "\n",
    "A large power company wants to plan its capacity expansion for the next 10 years. The forecasted demand in megawatts for year $t \\in \\{1, . . . , 10\\}$ is denoted by $d_t$, and is provided in the following table:\n",
    "\n",
    "year(t)|1|2|3|4|5|6|7|8|9|10\n",
    "-------|-|-|-|-|-|-|-|-|-|--\n",
    "$d_t$|10|22|31|35|39|44|50|57|62|70\n",
    "\n",
    "The company can expand its energy production capacity at the beginning of each year. Two energy production alternatives are available: nuclear and wind.\n",
    "\n",
    "* An investment of $c_n = 100$ is required per megawatt of nuclear power. Such an investment in the beginning of year t implies that the purchased capacity will be available during period t, t + 1, t + 2 and t + 3.\n",
    "* Similarly, an investment of $c_w = 120$ is required per megawatt of wind power capacity. Such an investment in the beginning of year t implies that the purchased capacity will be available during period t, t + 1 and t + 2.\n",
    "\n",
    "Governmental regulations require that at most 60 % of the companies power capacity be nuclear.\n",
    "Assume that the initial capacity of the company is zero for nuclear and wind. \n",
    "\n",
    "\n",
    "Use mip to formulate and solve the problem of planning the least cost capacity expansion, while satisfying the forecasted demand.\n",
    "\n",
    "### Parameters:\n",
    " * $T = \\{1, . . . , 10\\}$ is the set of periods (years) in the planning horizon.\n",
    " * $I = \\{0, 1\\}$ is the set of energy production alternatives (0=nuclear, 1=wind).\n",
    " * $d_t$ is the demand (in megawatts) of year $t \\in T$.\n",
    " * $c_i$ is the investment cost to produce one megawatt of type $i \\in I$ power.\n",
    " * $a_i$ is the number of years (after the year of purchase) the capacity for type i power is available.\n",
    " * $N^{max}$ is the maximum allowed ratio of nuclear power capacity with respect to total available capacity for each year t.\n",
    "\n",
    "### Variables:\n",
    " * $x_{it} \\ge 0$ is the amount of type i power capacity available in year t.\n",
    " * $y_{it} \\ge 0$ is the amount of type i power capacity purchased at the beginning of year t.\n",
    "\n",
    "### Model:\n",
    "$$\n",
    "\\begin{array}{llll}\n",
    "\\min & \\sum_{t \\in T}{\\sum_{i \\in I}{c_i y_{it}}} \\\\\n",
    "\\textrm{s.t.} & \\sum_{i \\in I}{x_{it}} \\ge d_t &\\qquad \\forall t \\in T \\\\\n",
    "              & x_{0t} \\le N^{max} (\\sum_{i \\in I}{x_{it}}) &\\qquad \\forall t \\in T \\\\\n",
    "              & x_{it} = \\sum_{l = max\\{1, t - a_i\\}}^{t}{y_{il}} &\\qquad \\forall i \\in I, \\forall t \\in T \\\\\n",
    "              & x_{it}, y_{it} \\in \\mathbb R_+ &\\qquad \\forall i \\in I, \\forall t \\in T\n",
    "\\end{array}\n",
    "$$"
   ]
  },
  {
   "cell_type": "code",
   "execution_count": null,
   "id": "e2783667",
   "metadata": {},
   "outputs": [],
   "source": [
    "# When using Colab, make sure you run this instruction beforehand\n",
    "!pip install --upgrade cffi==1.15.0\n",
    "import importlib\n",
    "import cffi\n",
    "importlib.reload(cffi)\n",
    "!pip install mip"
   ]
  },
  {
   "cell_type": "code",
   "execution_count": null,
   "id": "001b1e69",
   "metadata": {},
   "outputs": [],
   "source": [
    "# Setup your parameters\n",
    "T = range(10)\n",
    "I = [0, 1] # 0 = nuclear, 1 = wind\n",
    "\n",
    "d = [10, 22, 31, 35, 39, 44, 50, 57, 62, 70]\n",
    "c = [100, 120]\n",
    "a = [3, 2]\n",
    "\n",
    "max_N = 0.6"
   ]
  },
  {
   "cell_type": "code",
   "execution_count": null,
   "id": "d59f6107",
   "metadata": {},
   "outputs": [],
   "source": [
    "import mip\n",
    "\n",
    "m = mip.Model()\n",
    "\n",
    "x = [[ m.add_var() for t in T ] for i in I]\n",
    "y = [[ m.add_var() for t in T ] for i in I]\n",
    "\n",
    "for t in T:\n",
    "    m.add_constr(mip.xsum(x[i][t] for i in I) >= d[t])\n",
    "\n",
    "for t in T:\n",
    "    m.add_constr(x[0][t] <= max_N * mip.xsum(x[i][t] for i in I))\n",
    "\n",
    "for t in T:\n",
    "    for i in I:\n",
    "        m.add_constr(x[i][t] == mip.xsum(y[i][l] for l in range(max(0, t - a[i]), t + 1)))\n",
    "\n",
    "m.objective = mip.minimize(mip.xsum(c[i] * y[i][t] for i in I for t in T))\n",
    "\n",
    "status = m.optimize()\n",
    "print(status)\n",
    "print(m.objective_value)\n",
    "\n",
    "for t in T:\n",
    "  print(\"[{}] Nuclear: {:0.2f} \\t Wind: {:0.2f}\".format(t, y[0][t].x, y[1][t].x))"
   ]
  }
 ],
 "metadata": {
  "kernelspec": {
   "display_name": "Python 3.10.8 64-bit",
   "language": "python",
   "name": "python3"
  },
  "language_info": {
   "codemirror_mode": {
    "name": "ipython",
    "version": 3
   },
   "file_extension": ".py",
   "mimetype": "text/x-python",
   "name": "python",
   "nbconvert_exporter": "python",
   "pygments_lexer": "ipython3",
   "version": "3.10.8"
  },
  "vscode": {
   "interpreter": {
    "hash": "e7370f93d1d0cde622a1f8e1c04877d8463912d04d973331ad4851f04de6915a"
   }
  }
 },
 "nbformat": 4,
 "nbformat_minor": 5
}
