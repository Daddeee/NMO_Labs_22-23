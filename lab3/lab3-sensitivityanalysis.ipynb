{
 "cells": [
  {
   "cell_type": "markdown",
   "metadata": {},
   "source": [
    "# Lab 3, part I: sensitivity analysis\n",
    "\n",
    "This lab focuses on sensitivity analysis. After solving a problem with three constraints and four variables, we will change the problem slightly and re-solve it to evaluate how the solution and the objective function change. Then we'll use the problem's dual variables and reduced costs to arrive at the same result.\n",
    "\n",
    "Consider the product mix problem: A factory produces 4 types of perfume by mixing 5 ingredients. Denote as $P=\\{1,2,3,4\\}$ the set of perfumes, and as $I=\\{1,2,3,4,5\\}$ the set of ingredients. The retail price for each liter of perfume $p\\in P$ is $c_p$, defined in the table below:\n",
    "\n",
    "|Perfume | 1 | 2 | 3 | 4 |\n",
    "|--------|---|---|---|---|\n",
    "|Retail price  |300|255|260|390|\n",
    "\n",
    "One liter of perfume $p$ requires a quantity $a_{ip}$ of the ingredient $i$, also expressed in liters, as specified below:\n",
    "\n",
    "|Ingredient\\Perfume|1|2|3|4|\n",
    "|-|-|-|-|-|\n",
    "|1|0.01|0.05|0.07|0.04|\n",
    "|2|0.34|0.45|0.36|0.51|\n",
    "|3|0.08|0.06|0.12|0.12|\n",
    "|4|0.55|0.35|0.29|0.32|\n",
    "|5|0.02|0.09|0.16|0.01|\n",
    "\n",
    "There is a finite amount (in liters) of each ingredient expressed by $b_i$, for all $i\\in I$ and defined in the following table:\n",
    "\n",
    "|Ingredient|1|2|3|4|5|\n",
    "|----------|-|-|-|-|-|\n",
    "|Availability|30|400|90|450|70|\n",
    "\n",
    "Here are the tasks for this exercise:\n",
    "\n",
    "1. Determine the amount of perfume to produce for each type in order to maximize the total revenue;\n",
    "2. What could allow us to increase the total profit without changing the retail price $c_p$ and the percentage $a_{ip}$?\n",
    "3. Find what constraint(s) are the most restrictive by changing one of the input parameters $b_i$;\n",
    "4. Are all perfumes produced? If any of them is not produced, can we reduce its retail price so that it is worth to produce it? By how much?"
   ]
  },
  {
   "cell_type": "markdown",
   "metadata": {},
   "source": [
    "## Solution\n",
    "\n",
    "Task 1: __Determine the amount of perfume to produce for each type in order to maximize the total revenue.__\n",
    "\n",
    "We must create an optimization problem for this purpose. First, define sets and parameters:\n",
    "\n",
    "* Set $P = \\{1,2,3,4\\}$;\n",
    "* Set $I = \\{1,2,3,4,5\\}$;\n",
    "* Retail price $c = (300,255,260,390)^\\top$;\n",
    "* Availability $b = (30,400,90,450,70)^\\top$;\n",
    "* Composition $A = \\left(\n",
    "\\begin{array}{rrrrr}\n",
    "0.01 & 0.05 & 0.07 & 0.04\\\\\n",
    "0.34 & 0.45 & 0.36 & 0.51\\\\\n",
    "0.08 & 0.06 & 0.12 & 0.12\\\\\n",
    "0.55 & 0.35 & 0.29 & 0.32\\\\\n",
    "0.02 & 0.09 & 0.16 & 0.01\\\\\n",
    "\\end{array}\n",
    "\\right)$"
   ]
  },
  {
   "cell_type": "code",
   "execution_count": null,
   "metadata": {},
   "outputs": [],
   "source": [
    "# When using Colab, make sure you run this instruction beforehand\n",
    "!pip install --upgrade cffi==1.15.0\n",
    "import importlib\n",
    "import cffi\n",
    "importlib.reload(cffi)\n",
    "!pip install mip"
   ]
  },
  {
   "cell_type": "code",
   "execution_count": null,
   "metadata": {},
   "outputs": [],
   "source": [
    "import mip\n",
    "\n",
    "c = [300, 255, 260, 390]\n",
    "b = [30, 400, 90, 450, 70]\n",
    "\n",
    "A = \\\n",
    "[[0.01, 0.05, 0.07, 0.04],\n",
    " [0.34, 0.45, 0.36, 0.51],\n",
    " [0.08, 0.06, 0.12, 0.12],\n",
    " [0.55, 0.35, 0.29, 0.32],\n",
    " [0.02, 0.09, 0.16, 0.01]]\n",
    "\n",
    "def solve_productmix(A, b, c):\n",
    "    n = len(c)\n",
    "    k = len(b)\n",
    "\n",
    "    # create model (TODO)\n",
    "    m = mip.Model()\n",
    "    \n",
    "    # add variables (TODO)\n",
    "    x =\n",
    "\n",
    "    # One constraint per ingredient (TODO)\n",
    "    for i in range(k):\n",
    "        m.add_constr()\n",
    "    \n",
    "    # Objective function is a weighted sum of all x (TODO)\n",
    "    m.objective = \n",
    "\n",
    "    # Solve\n",
    "    m.optimize()\n",
    "\n",
    "    # Return a tuple containing model, solution, and objective value (TODO)\n",
    "    return (m, , )\n",
    "\n",
    "\n",
    "# Use \"_\" because we don't care about the model in this call\n",
    "_, solution, objective = solve_productmix(A,b,c)\n",
    "\n",
    "print(\"Solution:\", solution)\n",
    "print(\"Objective: {0:10.2f}\".format(objective))"
   ]
  },
  {
   "cell_type": "markdown",
   "metadata": {},
   "source": [
    "Task 2: __What could allow us to increase the total profit without changing the retail price $c_p$ and the composition $a_{ip}$? How much does the profit changes?__"
   ]
  },
  {
   "cell_type": "code",
   "execution_count": null,
   "metadata": {},
   "outputs": [],
   "source": [
    "# compute solution2 and objective2 (TODO)\n",
    "solution2, objective2 = None, None\n",
    "\n",
    "print(\"Solution:\", solution2)\n",
    "print(f\"Objective: {objective2}, increase: {((objective2 - objective) / objective) * 100: 6.2f}%\")"
   ]
  },
  {
   "cell_type": "markdown",
   "metadata": {},
   "source": [
    "Task 3: __Find which constraint is the most restrictive by changing the input parameters $b_i$ one by one.__"
   ]
  },
  {
   "cell_type": "code",
   "execution_count": null,
   "metadata": {},
   "outputs": [],
   "source": []
  },
  {
   "cell_type": "markdown",
   "metadata": {},
   "source": [
    "Task 4: __Are all perfumes produced? If any of them is not produced, can we increase its retail price so that it is worth to produce it? By how much?__"
   ]
  },
  {
   "cell_type": "code",
   "execution_count": null,
   "metadata": {},
   "outputs": [],
   "source": []
  }
 ],
 "metadata": {
  "kernelspec": {
   "display_name": "Python 3.10.8 64-bit",
   "language": "python",
   "name": "python3"
  },
  "language_info": {
   "codemirror_mode": {
    "name": "ipython",
    "version": 3
   },
   "file_extension": ".py",
   "mimetype": "text/x-python",
   "name": "python",
   "nbconvert_exporter": "python",
   "pygments_lexer": "ipython3",
   "version": "3.10.8"
  },
  "vscode": {
   "interpreter": {
    "hash": "e7370f93d1d0cde622a1f8e1c04877d8463912d04d973331ad4851f04de6915a"
   }
  }
 },
 "nbformat": 4,
 "nbformat_minor": 4
}
