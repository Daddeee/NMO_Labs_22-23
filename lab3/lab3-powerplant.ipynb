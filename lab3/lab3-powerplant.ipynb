{
 "cells": [
  {
   "cell_type": "markdown",
   "id": "aedd867f",
   "metadata": {},
   "source": [
    "## Power plant capacity\n",
    "\n",
    "A large power company wants to plan its capacity expansion for the next 10 years. The forecasted demand in megawatts for year $t \\in \\{1, . . . , 10\\}$ is denoted by $d_t$, and is provided in the following table:\n",
    "\n",
    "year(t)|1|2|3|4|5|6|7|8|9|10\n",
    "-------|-|-|-|-|-|-|-|-|-|--\n",
    "$d_t$|10|22|31|35|39|44|50|57|62|70\n",
    "\n",
    "The company can expand its energy production capacity at the beginning of each year. Two energy production alternatives are available: nuclear and wind.\n",
    "\n",
    "* An investment of $c_n = 100$ is required per megawatt of nuclear power. Such an investment in the beginning of year t implies that the purchased capacity will be available during period t, t + 1, t + 2 and t + 3.\n",
    "* Similarly, an investment of $c_w = 120$ is required per megawatt of wind power capacity. Such an investment in the beginning of year t implies that the purchased capacity will be available during period t, t + 1 and t + 2.\n",
    "\n",
    "Governmental regulations require that at most 60 % of the companies power capacity be nuclear.\n",
    "Assume that the initial capacity of the company is zero for nuclear and wind. \n",
    "\n",
    "\n",
    "Use mip to formulate and solve the problem of planning the least cost capacity expansion, while satisfying the forecasted demand."
   ]
  },
  {
   "cell_type": "code",
   "execution_count": null,
   "id": "e2783667",
   "metadata": {},
   "outputs": [],
   "source": [
    "# When using Colab, make sure you run this instruction beforehand\n",
    "!pip install --upgrade cffi==1.15.0\n",
    "import importlib\n",
    "import cffi\n",
    "importlib.reload(cffi)\n",
    "!pip install mip"
   ]
  },
  {
   "cell_type": "code",
   "execution_count": null,
   "id": "001b1e69",
   "metadata": {},
   "outputs": [],
   "source": [
    "# Setup your parameters"
   ]
  },
  {
   "cell_type": "code",
   "execution_count": null,
   "id": "d59f6107",
   "metadata": {},
   "outputs": [],
   "source": [
    "import mip\n",
    "\n",
    "m = mip.Model()\n",
    "\n",
    "# Write here the model\n",
    "\n",
    "m.optimize()\n",
    "print(m.objective_value)"
   ]
  }
 ],
 "metadata": {
  "kernelspec": {
   "display_name": "Python 3.10.8 64-bit",
   "language": "python",
   "name": "python3"
  },
  "language_info": {
   "codemirror_mode": {
    "name": "ipython",
    "version": 3
   },
   "file_extension": ".py",
   "mimetype": "text/x-python",
   "name": "python",
   "nbconvert_exporter": "python",
   "pygments_lexer": "ipython3",
   "version": "3.10.8"
  },
  "vscode": {
   "interpreter": {
    "hash": "e7370f93d1d0cde622a1f8e1c04877d8463912d04d973331ad4851f04de6915a"
   }
  }
 },
 "nbformat": 4,
 "nbformat_minor": 5
}
