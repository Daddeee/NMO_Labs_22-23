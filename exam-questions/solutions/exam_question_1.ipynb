{
  "cells": [
    {
      "cell_type": "markdown",
      "metadata": {
        "id": "fL1uV17ZN6ht"
      },
      "source": [
        "**Fill in the gaps marked with \"...\" and answer all questions at the end of the notebook.**\n",
        "\n",
        "# Exam question\n",
        "\n",
        "Consider 10 cities which have the following annual demand for electrical energy:\n",
        "\n",
        "city (i)|1|2|3|4|5|6|7|8|9|10\n",
        "--------|-|-|-|-|-|-|-|-|-|--\n",
        "demand $d_i$|30|18|21|10|8|23|11|32|14|9\n",
        "\n",
        "There are 3 nearby energy production facilities which can serve any of the aforementioned cities. However, each city must be served by only one facility.\n",
        "\n",
        "Activating a facility incurs the following fixed cost:\n",
        "\n",
        "energy facility (j)|1|2|3\n",
        "-------------------|-|-|-\n",
        "activation cost $b_j$|80|100|110\n",
        "\n",
        "When active, facilities can operate in one out of 4 possible production levels (annual capacities). For each production level, the capacity (in units of energy produced per year) and the respective total cost are summarized in the following table:\n",
        "\n",
        "production level (k)|1|2|3|4\n",
        "--------------------|-|-|-|-\n",
        "capacity $l_k$|10|60|90|130\n",
        "total cost $c_k$|100|480|630|780\n",
        "\n",
        "The problem consists in assigning cities to facilities and selecting the production levels of the latter so that city demands are satisfied while minimizing the total facility costs.\n",
        "\n"
      ]
    },
    {
      "cell_type": "markdown",
      "metadata": {
        "id": "Sal5_5YJIvmv"
      },
      "source": [
        "## Solution\n",
        "\n",
        "### Sets:\n",
        "*   I is the set of cities.\n",
        "*   J is the set of energy facilities.\n",
        "*   K is the set of production levels.\n",
        "\n",
        "### Parameters:\n",
        "*   $d_i$ is the annual energy demand of city $i \\in I$.\n",
        "*   $b_j$ is the activation cost of facility $j \\in J$.\n",
        "*   $l_k$ is the amount of energy produced annually (capacity) at production level $k \\in K$.\n",
        "*   $c_k$ is the total cost of production level k.\n",
        "\n",
        "### Variables:\n",
        "*   $x_{ij} \\in \\{0, 1\\}$ equals one if city i is assigned to facility j, 0 otherwise.\n",
        "*   $y_j \\in \\{0, 1\\}$ equals one if facility j is activated, 0 otherwise.\n",
        "*   $z_{jk} \\in \\{0, 1\\}$ equals one if facility j operates at production level k, 0 otherwise.\n",
        "\n",
        "### Formulation:\n",
        "\n",
        "$$\n",
        "\\begin{array}{lll}\n",
        "\\min & \\sum_{j \\in J} (b_j y_j + \\sum_{k \\in K}{c_k z_{jk}}  )\\\\\n",
        "\\textrm{s.t.} & \\sum_{j \\in J} x_{ij} = 1 & \\forall i \\in I \\\\\n",
        "              & \\sum_{i \\in I} d_i x_{ij} \\le \\sum_{k \\in K} l_k z_{jk} & \\forall j \\in J\\\\\n",
        "              & y_j \\ge \\sum_{k \\in K} z_{jk} & \\forall j \\in J\\\\\n",
        "              & x_{ij}, y_j, z_{jk} \\in \\{0,1\\}   & \\forall i \\in I, j \\in J, k \\in K\n",
        "\\end{array}\n",
        "$$"
      ]
    },
    {
      "cell_type": "code",
      "execution_count": null,
      "metadata": {
        "colab": {
          "base_uri": "https://localhost:8080/",
          "height": 503
        },
        "id": "3Yi0SBdDD0Mn",
        "outputId": "5b70ecae-12c7-49a5-9f85-b45fd44b52e0"
      },
      "outputs": [],
      "source": [
        "!pip install --upgrade cffi==1.15.0\n",
        "import importlib\n",
        "import cffi\n",
        "importlib.reload(cffi)\n",
        "!pip install mip"
      ]
    },
    {
      "cell_type": "code",
      "execution_count": null,
      "metadata": {
        "colab": {
          "base_uri": "https://localhost:8080/"
        },
        "id": "kTN9lfEiN6hx",
        "outputId": "e36c1391-a24e-4b70-a5d7-64f4429dcdea"
      },
      "outputs": [],
      "source": [
        "import mip\n",
        "\n",
        "n = 10 # number of cities\n",
        "f =  3 # number of facilities\n",
        "k =  4 # number of production levels\n",
        "\n",
        "I = range(n)\n",
        "J = range(f)\n",
        "K = range(k)\n",
        "\n",
        "d = [30, 18, 21, 10, 8, 23, 11, 32, 14, 9]\n",
        "b = [80, 100, 110]\n",
        "l = [10, 60, 90, 130]\n",
        "c = [100, 480, 630, 780]\n",
        "\n",
        "m = mip.Model()\n",
        "\n",
        "x = [[m.add_var(var_type=mip.BINARY) for j in J] for i in I]\n",
        "y = [m.add_var(var_type=mip.BINARY) for j in J]\n",
        "z = [[m.add_var(var_type=mip.BINARY) for k in K] for j in J]\n",
        "\n",
        "for i in I:\n",
        "  m.add_constr(mip.xsum(x[i]) == 1)\n",
        "\n",
        "for j in J:\n",
        "  m.add_constr(mip.xsum(d[i] * x[i][j] for i in I) <= mip.xsum(l[k] * z[j][k] for k in K))\n",
        "\n",
        "for j in J:\n",
        "  m.add_constr(y[j] >= mip.xsum(z[j]))\n",
        "\n",
        "m.objective = mip.minimize(\n",
        "    mip.xsum(b[j] * y[j] for j in J) \n",
        "  + mip.xsum(c[k] * z[j][k] for k in K for j in J)\n",
        ")\n",
        "\n",
        "m.optimize()\n",
        "\n",
        "print(m.objective_value)\n",
        "\n",
        "for i in I:\n",
        "  print([x[i][j].x for j in J])"
      ]
    },
    {
      "cell_type": "markdown",
      "metadata": {
        "id": "0IL9s5twN6hy"
      },
      "source": [
        "Questions:\n",
        "\n",
        "Suppose that we change the domain of $x_{ij}$ variables from\n",
        "$$\n",
        "x_{ij} \\in \\{0,1\\} \\qquad \\forall i \\in I, j \\in J\n",
        "$$\n",
        "to\n",
        "$$\n",
        "x_{ij} \\in [0,1] \\subset \\mathbb{R} \\qquad \\forall i \\in I, j \\in J\n",
        "$$\n",
        "\n",
        "1. Does the objective function value increases, decreases or remains the same? Why?\n",
        "\n",
        "**Answer: it remains the same. Variables x do not appear in the objective function and a change in their domain does not affect the feasible region of the problem in such a way that the objective function value changes. This can be verified with code by changing the declaration of x variables (see code below).**\n",
        "\n",
        "2. How does the assignment of cities to facilities changes? In particular, what happens to city $i=6$? \n",
        "\n",
        "**Answer: a city can now be assigned to multiple facilities. In particular, city 6 is served by facility 1 and 2.**"
      ]
    },
    {
      "cell_type": "code",
      "execution_count": null,
      "metadata": {},
      "outputs": [],
      "source": [
        "x = [[m.add_var(lb=0, ub=1) for j in J] for i in I]"
      ]
    }
  ],
  "metadata": {
    "colab": {
      "provenance": []
    },
    "kernelspec": {
      "display_name": "Python 3.10.8 64-bit",
      "language": "python",
      "name": "python3"
    },
    "language_info": {
      "codemirror_mode": {
        "name": "ipython",
        "version": 3
      },
      "file_extension": ".py",
      "mimetype": "text/x-python",
      "name": "python",
      "nbconvert_exporter": "python",
      "pygments_lexer": "ipython3",
      "version": "3.10.8"
    },
    "vscode": {
      "interpreter": {
        "hash": "e7370f93d1d0cde622a1f8e1c04877d8463912d04d973331ad4851f04de6915a"
      }
    }
  },
  "nbformat": 4,
  "nbformat_minor": 0
}
