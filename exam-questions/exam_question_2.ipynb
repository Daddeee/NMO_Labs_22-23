{
  "cells": [
    {
      "cell_type": "markdown",
      "metadata": {
        "id": "9wzvlUB9q2Q5"
      },
      "source": [
        "**Fill in the gaps marked with \"...\" and answer all questions at the end of the notebook.**\n",
        "\n",
        "# Exam question\n",
        "\n",
        "A loaning company must consider a number of funding applications from 10 companies:\n",
        "\n",
        "*   3 of which are textile companies,\n",
        "*   5 are agricultural holdings and\n",
        "*   2 mechanical industries.\n",
        "\n",
        "Funding should satisfy the following constraints for each type of company:\n",
        "\n",
        "*   in case the first textile company is financed the other two will not,\n",
        "*   either both mechanical companies will be financed or none will be,\n",
        "*   at least one agricultural company will be financed.\n",
        "\n",
        "Applications for funding are:\n",
        "*   \\$30, \\$20 and \\$15 million for the first, the second and the third textile company, respectively,\n",
        "*   \\$20 million for each of the agricultural companies,\n",
        "*   \\$40 and \\$30 million for the two mechanical companies.\n",
        "\n",
        "The available budget is \\$150 million.\n",
        "A return value is associated to each possible funding as follows:\n",
        "*   \\$15 million, \\$10 million and \\$10 million, respectively, for the first, the second and the third textile company,\n",
        "*   \\$20 and \\$8 million, respectively, for the two mechanical industries,\n",
        "*   \\$12 million dollars for each agricultural holding.\n",
        "\n",
        "Formulate a linear program model that maximizes the overall profit."
      ]
    },
    {
      "cell_type": "markdown",
      "metadata": {
        "id": "Cu03_nqSxIQp"
      },
      "source": [
        "## Solution\n",
        "\n",
        "### Sets:\n",
        "*   $I$ is the set of companies.\n",
        "*   $T \\subset I$ is the subset of textile companies.\n",
        "*   $M \\subset I$ is the subset of mechanical companies.\n",
        "*   $A \\subset I$ is the subset of agricultural companies.\n",
        "\n",
        "### Parameters:\n",
        "*   $d_i$ is the funding request of company $i \\in I$.\n",
        "*   $r_i$ is the profit (of the loaning company) from company $i$ if funded.\n",
        "*   $b$ is the overall available budget.\n",
        "*   $t^* \\in T$ is the first textile company.\n",
        "\n",
        "### Variables:\n",
        "*   $x_i \\in \\{0, 1\\}$ equals 1 if company i is funded, 0 otherwise.\n",
        "\n",
        "### Formulation:\n",
        "\n",
        "$$\n",
        "\\begin{array}{lll}\n",
        "\\max & \\sum_{i \\in I} r_i x_i \\\\\n",
        "\\textrm{s.t.} & \\sum_{i \\in I} d_i x_i \\le b \\\\\n",
        "              & x_i \\le 1 - x_{t^*} & \\forall i \\in T, i \\neq t^* \\\\\n",
        "              & x_i = x_j & \\forall i,j \\in M, i \\neq j \\\\\n",
        "              & \\sum_{i \\in A} x_i \\ge 1 & \\\\\n",
        "              & x_{i} \\in \\{0,1\\} & \\forall i \\in I\n",
        "\\end{array}\n",
        "$$"
      ]
    },
    {
      "cell_type": "code",
      "execution_count": null,
      "metadata": {
        "colab": {
          "base_uri": "https://localhost:8080/",
          "height": 503
        },
        "id": "O2B71NL0qzHW",
        "outputId": "04effe6e-116c-4d48-d9d3-5b07cadd01d6"
      },
      "outputs": [],
      "source": [
        "!pip install --upgrade cffi==1.15.0\n",
        "import importlib\n",
        "import cffi\n",
        "importlib.reload(cffi)\n",
        "!pip install mip"
      ]
    },
    {
      "cell_type": "code",
      "execution_count": null,
      "metadata": {
        "colab": {
          "base_uri": "https://localhost:8080/"
        },
        "id": "Vd87Yzyg6nGC",
        "outputId": "94ac92c1-47de-482a-b30a-29d6d65e5d7d"
      },
      "outputs": [],
      "source": [
        "import mip\n",
        "\n",
        "T = [0, 1, 2] # textile companies\n",
        "A = [3, 4, 5, 6, 7] # agricultural companies\n",
        "M = [8, 9] # mechanical companies\n",
        "\n",
        "I = T + A + M # all companies\n",
        "\n",
        "d = [30, 20, 15, 20, 20, 20, 20, 20, 40, 30] # funding request\n",
        "r = [15, 10, 10, 12, 12, 12, 12, 12, 20, 8]  # profit\n",
        "\n",
        "b = 150 # budget\n",
        "\n",
        "t1 = 0  # first textile company\n",
        "\n",
        "\n",
        "m = mip.Model()\n",
        "\n",
        "x = [m.add_var(...) for i in I]\n",
        "\n",
        "budget_constr = m.add_constr(...)\n",
        "textile_constrs = [m.add_constr(...) for ...]\n",
        "mechanical_constrs = [m.add_constr(...) for ...]\n",
        "agricultural_constr = m.add_constr(...)\n",
        "\n",
        "m.objective = mip.maximize(...)\n",
        "\n",
        "m.optimize()\n",
        "\n",
        "print(m.objective_value)\n",
        "\n",
        "print([x[i].x for i in I])"
      ]
    },
    {
      "cell_type": "markdown",
      "metadata": {
        "id": "n8LiKX9VAoYj"
      },
      "source": [
        "Questions:\n",
        "\n",
        "1. If you increase the budget $b$ by \\$10 millions, does the objective function value increases, decreases or remains the same? Why?"
      ]
    }
  ],
  "metadata": {
    "colab": {
      "provenance": []
    },
    "kernelspec": {
      "display_name": "Python 3.10.8 64-bit",
      "language": "python",
      "name": "python3"
    },
    "language_info": {
      "name": "python",
      "version": "3.10.8"
    },
    "vscode": {
      "interpreter": {
        "hash": "e7370f93d1d0cde622a1f8e1c04877d8463912d04d973331ad4851f04de6915a"
      }
    }
  },
  "nbformat": 4,
  "nbformat_minor": 0
}
