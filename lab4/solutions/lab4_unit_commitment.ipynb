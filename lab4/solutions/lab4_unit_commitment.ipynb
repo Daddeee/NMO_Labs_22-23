{
  "cells": [
    {
      "cell_type": "markdown",
      "metadata": {
        "id": "-_FgX5dKfR0T"
      },
      "source": [
        "## A simplified unit commitment problem\n",
        "\n",
        "### Part A\n",
        "\n",
        "The unit commitment problem consists of determining a **cost minimizing** power generation schedule, so as to satisfy a forecasted power demand (load) over a given number of periods.\n",
        "\n",
        "Consider the following simplified version of the problem: The scheduling horizon includes eight\n",
        "periods ($T=8$), corresponding to a three-hour resolution for a full day. The forecasted load for\n",
        "each period is reported in the table below:\n",
        "\n",
        "time period $t$|1|2|3|4|5|6|7|8\n",
        "---------------|-|-|-|-|-|-|-|-\n",
        "load forecast $d_t$ (in MW)|1.3|3.2|10.6|5.7|15.9|6.8|18.1|8.9\n",
        "\n",
        "There are three available generators which can be scheduled for satisfying the load. For each generator, there is variable cost $c_i$, which is the cost incurred for each MW produced by generator $i$, and a cost $b_i$, which is incurred for each period in which $i$ is operated (ON). Parameters $p^{min}_{i}$\n",
        "and $p^{max}_{i}$ are the minimum and maximum production levels of $i$ per period, respectively. The values of all parameters characterizing each generator are:\n",
        "\n",
        "generator $i$|1|2|3\n",
        "-------------|-|-|-\n",
        "$c_i$|7|10|6.5\n",
        "$b_i$|30|40|60\n",
        "$p^{min}_{i}$|1|3.2|4.1\n",
        "$p^{max}_{i}$|6.5|10|30\n",
        "\n",
        "Provide a mixed integer linear programming formulation of this problem, and solve it with mip."
      ]
    },
    {
      "cell_type": "markdown",
      "metadata": {
        "id": "WUO2w9y-E6Q5"
      },
      "source": [
        "### Sets:\n",
        "*   $I$: set of power generators ($|I| = m$)\n",
        "*   $N$: set of time periods in the scheduling horizon ($|N| = T$)\n",
        "\n",
        "### Parameters:\n",
        "*   $d_t$: forecasted demand for period $t \\in N$\n",
        "*   $c_i$: cost per MW produced by generator $i \\in I$\n",
        "*   $b_i$: cost incurred for each period generator i is operated (ON)\n",
        "*   $p^{min}_i$: minimum production level of generator i per time period (if active)\n",
        "*   $p^{max}_i$: maximum production level of generator i per time period\n",
        "\n",
        "### Variables:\n",
        "*   $x_{it} \\ge 0$: amount of power (in MW) produced by generator i during time period t\n",
        "*   $y_{it} \\in \\{0, 1\\}$: 1 if generator i produces power during time period t (is active as of the beginning of t), 0 otherwise\n",
        "\n",
        "### Part A Formulation\n",
        "\n",
        "$$\n",
        "\\begin{array}{lll}\n",
        "\\min & \\sum_{i \\in I} {\\sum_{t \\in N} (c_i x_{it} + b_i y_{it})} \\\\\n",
        "\\textrm{s.t.} & \\sum_{i \\in I} x_{it} \\ge d_t & \\forall t \\in N \\\\\n",
        "              & x_{it} \\ge p^{min}_i y_{it} & \\forall i \\in I, \\forall t \\in N \\\\\n",
        "              & x_{it} \\le p^{max}_i y_{it} & \\forall i \\in I, \\forall t \\in N \\\\\n",
        "              & y_{it} \\in \\{0,1\\} & \\forall i \\in I, \\forall t \\in N \\\\\n",
        "              & x_{it} \\ge 0 & \\forall i \\in I, \\forall t \\in N\n",
        "\\end{array}\n",
        "$$"
      ]
    },
    {
      "cell_type": "markdown",
      "metadata": {},
      "source": []
    },
    {
      "cell_type": "markdown",
      "metadata": {},
      "source": [
        "### Part A Formulation\n",
        "\n",
        "$$\n",
        "\\begin{array}{lll}\n",
        "\\min & TODO \\\\\n",
        "\\textrm{s.t.} & TODO\n",
        "\\end{array}\n",
        "$$"
      ]
    },
    {
      "cell_type": "code",
      "execution_count": 2,
      "metadata": {
        "colab": {
          "base_uri": "https://localhost:8080/",
          "height": 503
        },
        "id": "JmjgW7UNfQlN",
        "outputId": "7e2b985a-82cc-4c66-ddf7-0d4e44ce1d6c"
      },
      "outputs": [
        {
          "name": "stdout",
          "output_type": "stream",
          "text": [
            "Looking in indexes: https://pypi.org/simple, https://us-python.pkg.dev/colab-wheels/public/simple/\n",
            "Collecting cffi==1.15.0\n",
            "  Downloading cffi-1.15.0-cp38-cp38-manylinux_2_12_x86_64.manylinux2010_x86_64.whl (446 kB)\n",
            "\u001b[K     |████████████████████████████████| 446 kB 5.2 MB/s \n",
            "\u001b[?25hRequirement already satisfied: pycparser in /usr/local/lib/python3.8/dist-packages (from cffi==1.15.0) (2.21)\n",
            "Installing collected packages: cffi\n",
            "  Attempting uninstall: cffi\n",
            "    Found existing installation: cffi 1.15.1\n",
            "    Uninstalling cffi-1.15.1:\n",
            "      Successfully uninstalled cffi-1.15.1\n",
            "Successfully installed cffi-1.15.0\n"
          ]
        },
        {
          "data": {
            "application/vnd.colab-display-data+json": {
              "pip_warning": {
                "packages": [
                  "cffi"
                ]
              }
            }
          },
          "metadata": {},
          "output_type": "display_data"
        },
        {
          "name": "stdout",
          "output_type": "stream",
          "text": [
            "Looking in indexes: https://pypi.org/simple, https://us-python.pkg.dev/colab-wheels/public/simple/\n",
            "Collecting mip\n",
            "  Downloading mip-1.14.1-py3-none-any.whl (15.3 MB)\n",
            "\u001b[K     |████████████████████████████████| 15.3 MB 5.2 MB/s \n",
            "\u001b[?25hRequirement already satisfied: cffi==1.15.0 in /usr/local/lib/python3.8/dist-packages (from mip) (1.15.0)\n",
            "Requirement already satisfied: pycparser in /usr/local/lib/python3.8/dist-packages (from cffi==1.15.0->mip) (2.21)\n",
            "Installing collected packages: mip\n",
            "Successfully installed mip-1.14.1\n"
          ]
        }
      ],
      "source": [
        "!pip install --upgrade cffi==1.15.0\n",
        "import importlib\n",
        "import cffi\n",
        "importlib.reload(cffi)\n",
        "!pip install mip"
      ]
    },
    {
      "cell_type": "code",
      "execution_count": 7,
      "metadata": {
        "colab": {
          "base_uri": "https://localhost:8080/"
        },
        "id": "fJunSng-uCPd",
        "outputId": "9a0a1e8e-820a-4ef2-8a9e-21ef69e8d4ab"
      },
      "outputs": [
        {
          "name": "stdout",
          "output_type": "stream",
          "text": [
            "853.35\n",
            "---------\n",
            "[1.3, 3.2, 0.0, 5.7, 0.0, 0.0, 0.0, 0.0]\n",
            "[0.0, 0.0, 0.0, 0.0, 0.0, 0.0, 0.0, 0.0]\n",
            "[0.0, 0.0, 10.6, 0.0, 15.9, 6.8, 18.1, 8.9]\n",
            "---------\n",
            "[1.0, 1.0, 0.0, 1.0, 0.0, 0.0, 0.0, 0.0]\n",
            "[0.0, 0.0, 0.0, 0.0, 0.0, 0.0, 0.0, 0.0]\n",
            "[0.0, 0.0, 1.0, 0.0, 1.0, 1.0, 1.0, 1.0]\n"
          ]
        }
      ],
      "source": [
        "import mip\n",
        "\n",
        "T = 8\n",
        "N = range(8)\n",
        "\n",
        "m = 3\n",
        "I = range(m)\n",
        "\n",
        "d = [1.3, 3.2, 10.6, 5.7, 15.9, 6.8, 18.1, 8.9]\n",
        "c = [7, 10, 6.5]\n",
        "b = [30, 40, 60]\n",
        "p_min = [1, 3.2, 4.1]\n",
        "p_max = [6.5, 10, 30]\n",
        "\n",
        "m = mip.Model()\n",
        "\n",
        "x = [[m.add_var() for t in N] for i in I]\n",
        "y = [[m.add_var(var_type=mip.BINARY) for t in N] for i in I]\n",
        "\n",
        "for t in N:\n",
        "  m.add_constr(mip.xsum(x[i][t] for i in I) >= d[t])\n",
        "\n",
        "for i in I:\n",
        "  for t in N:\n",
        "    m.add_constr(x[i][t] <= p_max[i] * y[i][t])\n",
        "    m.add_constr(x[i][t] >= p_min[i] * y[i][t])\n",
        "\n",
        "m.objective = mip.minimize(mip.xsum(c[i] * x[i][t] + b[i] * y[i][t] for i in I for t in N))\n",
        "\n",
        "m.optimize()\n",
        "print(m.objective_value)"
      ]
    },
    {
      "cell_type": "markdown",
      "metadata": {
        "id": "6MxZZkQiuDFz"
      },
      "source": [
        "### Part B\n",
        "\n",
        "Each generator has a minimum up time and a minimum down time. Therefore, once turned on, generator $i$ must stay on for at least $L_o = 3$ time periods. Once turned off, generator $i$ must stay off for at least $L_f = 2$ time periods.\n",
        "\n",
        "Modify the formulation you proposed in Part A in a manner that accommodates\n",
        "these constraints, and solve it using mip.\n",
        "\n",
        "Assumptions: Since we do not know the state of the generators (whether on/off) prior to the beginning of the given scheduling horizon $T$, we are allowed to turn them on in period $1$. Furthermore, we assume generators will be turned off once the scheduling horizon has terminated; therefore we make sure any generator that was off at $t−1$ cannot be turned on at $t$ if the number of time periods from $t$ until the end of the scheduling horizon is less than $L_o$."
      ]
    },
    {
      "cell_type": "markdown",
      "metadata": {
        "id": "RLsS_FPqJKhj"
      },
      "source": [
        "Additional parameters:\n",
        "*   $L_o$: minimum up time (in number of periods)\n",
        "*   $L_f$: minimum down time (in number of periods)\n",
        "\n",
        "Additional constraints:\n",
        "\n",
        "$$\n",
        "\\begin{array}{lll}\n",
        "& \\sum_{τ \\in \\{1,...,L_o\\}} y_{iτ} \\ge L_o y_{i1} & \\forall i \\in I \\\\\n",
        "& \\sum_{τ \\in \\{0,...,L_o - 1\\}} y_{i(τ + t)} \\ge L_o(y_{it} - y_{i(t-1)}) & \\forall i \\in I, t \\in \\{2,...,T - L_o + 1\\} \\\\\n",
        "& \\sum_{τ \\in \\{T - L_o + 1,...,T\\}} y_{iτ} \\le L_o y_{i(T - L_o + 1)} & \\forall i \\in I \\\\\n",
        "& \\sum_{τ \\in \\{0,...,L_f - 1\\}} (1 - y_{i(τ+t)}) \\ge L_f (y_{i(t-1)} - y_{it}) & \\forall i \\in I, \\forall t \\in \\{2,...,T - L_f + 1\\}\n",
        "\\end{array}\n",
        "$$"
      ]
    },
    {
      "cell_type": "code",
      "execution_count": 9,
      "metadata": {
        "colab": {
          "base_uri": "https://localhost:8080/"
        },
        "id": "eR3f11X8u2b2",
        "outputId": "b0a89cb0-f3d8-43a4-a18e-a97a41b1dc64"
      },
      "outputs": [
        {
          "name": "stdout",
          "output_type": "stream",
          "text": [
            "959.25\n"
          ]
        }
      ],
      "source": [
        "Lo = 3\n",
        "Lf = 2\n",
        "\n",
        "for i in I:\n",
        "  m.add_constr(mip.xsum(y[i][k] for k in range(Lo)) >= Lo * y[i][0])\n",
        "\n",
        "for i in I:\n",
        "  for t in range(1, T - Lo):\n",
        "    m.add_constr(mip.xsum(y[i][k + t] for k in range(Lo)) >= Lo * (y[i][t] - y[i][t - 1]))\n",
        "\n",
        "for i in I:\n",
        "  m.add_constr(mip.xsum(y[i][k] for k in range(T - Lo, T)) <= Lo * y[i][T - Lo])\n",
        "\n",
        "for i in I:\n",
        "  for t in range(1, T - Lf):\n",
        "    m.add_constr(mip.xsum(1 - y[i][k + t] for k in range(Lf)) >= Lf * (y[i][t - i] - y[i][t]))\n",
        "\n",
        "m.optimize()\n",
        "print(m.objective_value)"
      ]
    },
    {
      "cell_type": "markdown",
      "metadata": {
        "id": "IYGj84Kku39D"
      },
      "source": [
        "### Part C\n",
        "\n",
        "To avoid damaging the generator its power production cannot change by more than a certain amount from one period to another. Let $\\delta^u_i$ be the maximum ramp up rate for generator $i$, i.e., for generator $i$ the production level at $t + 1$ minus the production level at $t$ cannot exceed $\\delta^u_i$. Let $\\delta^d_i$ be the maximum ramp down rate for generator $i$, i.e., for generator $i$ the production level at $t$ minus the production level at $t + 1$ cannot exceed $\\delta^d_i$. Consider values:\n",
        "\n",
        "generator $i$|1|2|3\n",
        "------------|-|-|-\n",
        "$\\delta^d_i$|3|5|10\n",
        "$\\delta^u_i$|3|5|10\n",
        "\n",
        "Modify the formulation you proposed in Part A in a manner that accommodates\n",
        "these constraints, and solve it using mip.\n",
        "\n",
        "Assumption: Generators have been off before the considered scheduling horizon and their initial production level is equal to zero."
      ]
    },
    {
      "cell_type": "markdown",
      "metadata": {
        "id": "ns0hzGP9S6-W"
      },
      "source": [
        "Additional parameters:\n",
        "*   $\\delta^u_i$: ramp up rate for generator i (maximum allowed increase in the production level between two consecutive time periods)\n",
        "*   $\\delta^d_i$: ramp down rate for generator i (maximum allowed decrease in the production level between two consecutive time periods)\n",
        "\n",
        "Additional constraints:\n",
        "\n",
        "$$\n",
        "\\begin{array}{lll}\n",
        "& x_{i1} \\le \\delta^u_i & \\forall i \\in I \\\\\n",
        "& x_{it} - x_{i(t-1)} \\le \\delta^u_i & \\forall i \\in I, \\forall t \\in \\{2,...,T\\} \\\\\n",
        "& x_{i(t-1)} - x_{it} \\le \\delta^d_i & \\forall i \\in I, \\forall t \\in \\{2,...,T\\}\n",
        "\\end{array}\n",
        "$$"
      ]
    },
    {
      "cell_type": "code",
      "execution_count": 11,
      "metadata": {
        "colab": {
          "base_uri": "https://localhost:8080/"
        },
        "id": "179QtKWsweid",
        "outputId": "0ac692b4-8e6b-413e-ea63-d0f8fbc46e47"
      },
      "outputs": [
        {
          "name": "stdout",
          "output_type": "stream",
          "text": [
            "972.0500000000001\n"
          ]
        }
      ],
      "source": [
        "delta_u = [3, 5, 10]\n",
        "delta_d = [3, 5, 10]\n",
        "\n",
        "for i in I:\n",
        "  m.add_constr(x[i][0] <= delta_u[i])\n",
        "\n",
        "  for t in range(1, T):\n",
        "    m.add_constr(x[i][t] - x[i][t - 1] <= delta_u[i])\n",
        "    m.add_constr(x[i][t - 1] - x[i][t] <= delta_d[i])\n",
        "\n",
        "m.optimize()\n",
        "print(m.objective_value)"
      ]
    }
  ],
  "metadata": {
    "colab": {
      "provenance": []
    },
    "kernelspec": {
      "display_name": "Python 3",
      "name": "python3"
    },
    "language_info": {
      "name": "python"
    }
  },
  "nbformat": 4,
  "nbformat_minor": 0
}
