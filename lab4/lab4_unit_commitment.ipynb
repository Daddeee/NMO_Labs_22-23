{
  "cells": [
    {
      "cell_type": "markdown",
      "metadata": {
        "id": "-_FgX5dKfR0T"
      },
      "source": [
        "## A simplified unit commitment problem\n",
        "\n",
        "### Part A\n",
        "\n",
        "The unit commitment problem consists of determining a **cost minimizing** power generation schedule, so as to satisfy a forecasted power demand (load) over a given number of periods.\n",
        "\n",
        "Consider the following simplified version of the problem: The scheduling horizon includes eight\n",
        "periods ($T=8$), corresponding to a three-hour resolution for a full day. The forecasted load for\n",
        "each period is reported in the table below:\n",
        "\n",
        "time period $t$|1|2|3|4|5|6|7|8\n",
        "---------------|-|-|-|-|-|-|-|-\n",
        "load forecast $d_t$ (in MW)|1.3|3.2|10.6|5.7|15.9|6.8|18.1|8.9\n",
        "\n",
        "There are three available generators which can be scheduled for satisfying the load. For each generator, there is variable cost $c_i$, which is the cost incurred for each MW produced by generator $i$, and a cost $b_i$, which is incurred for each period in which $i$ is operated (ON). Parameters $p^{min}_{i}$\n",
        "and $p^{max}_{i}$ are the minimum and maximum production levels of $i$ per period, respectively. The values of all parameters characterizing each generator are:\n",
        "\n",
        "generator $i$|1|2|3\n",
        "-------------|-|-|-\n",
        "$c_i$|7|10|6.5\n",
        "$b_i$|30|40|60\n",
        "$p^{min}_{i}$|1|3.2|4.1\n",
        "$p^{max}_{i}$|6.5|10|30\n",
        "\n",
        "Provide a mixed integer linear programming formulation of this problem, and solve it with mip."
      ]
    },
    {
      "cell_type": "code",
      "execution_count": null,
      "metadata": {
        "id": "JmjgW7UNfQlN"
      },
      "outputs": [],
      "source": [
        "!pip install --upgrade cffi==1.15.0\n",
        "import importlib\n",
        "import cffi\n",
        "importlib.reload(cffi)\n",
        "!pip install mip"
      ]
    },
    {
      "cell_type": "code",
      "execution_count": null,
      "metadata": {
        "id": "fJunSng-uCPd"
      },
      "outputs": [],
      "source": [
        "import mip\n",
        "\n",
        "m = mip.Model()\n",
        "\n",
        "# Write here the model\n",
        "\n",
        "m.optimize()\n",
        "print(m.objective_value)"
      ]
    },
    {
      "cell_type": "markdown",
      "metadata": {
        "id": "6MxZZkQiuDFz"
      },
      "source": [
        "### Part B\n",
        "\n",
        "Each generator has a minimum up time and a minimum down time. Therefore, once turned on, generator $i$ must stay on for at least $L_o = 3$ time periods. Once turned off, generator $i$ must stay off for at least $L_f = 2$ time periods.\n",
        "\n",
        "Modify the formulation you proposed in Part A in a manner that accommodates\n",
        "these constraints, and solve it using mip.\n",
        "\n",
        "Assumptions: Since we do not know the state of the generators (whether on/off) prior to the beginning of the given scheduling horizon $T$, we are allowed to turn them on in period $1$. Furthermore, we assume generators will be turned off once the scheduling horizon has terminated; therefore we make sure any generator that was off at $t−1$ cannot be turned on at $t$ if the number of time periods from $t$ until the end of the scheduling horizon is less than $L_o$."
      ]
    },
    {
      "cell_type": "code",
      "execution_count": null,
      "metadata": {
        "id": "eR3f11X8u2b2"
      },
      "outputs": [],
      "source": []
    },
    {
      "cell_type": "markdown",
      "metadata": {
        "id": "IYGj84Kku39D"
      },
      "source": [
        "### Part C\n",
        "\n",
        "To avoid damaging the generator its power production cannot change by more than a certain amount from one period to another. Let $\\delta^u_i$ be the maximum ramp up rate for generator $i$, i.e., for generator $i$ the production level at $t + 1$ minus the production level at $t$ cannot exceed $\\delta^u_i$. Let $\\delta^d_i$ be the maximum ramp down rate for generator $i$, i.e., for generator $i$ the production level at $t$ minus the production level at $t + 1$ cannot exceed $\\delta^d_i$. Consider values:\n",
        "\n",
        "generator $i$|1|2|3\n",
        "------------|-|-|-\n",
        "$\\delta^d_i$|3|5|10\n",
        "$\\delta^u_i$|3|5|10\n",
        "\n",
        "Modify the formulation you proposed in Part A in a manner that accommodates\n",
        "these constraints, and solve it using mip.\n",
        "\n",
        "Assumption: Generators have been off before the considered scheduling horizon and their initial production level is equal to zero."
      ]
    },
    {
      "cell_type": "code",
      "execution_count": null,
      "metadata": {
        "id": "179QtKWsweid"
      },
      "outputs": [],
      "source": []
    }
  ],
  "metadata": {
    "colab": {
      "provenance": []
    },
    "kernelspec": {
      "display_name": "Python 3",
      "name": "python3"
    },
    "language_info": {
      "name": "python"
    }
  },
  "nbformat": 4,
  "nbformat_minor": 0
}
