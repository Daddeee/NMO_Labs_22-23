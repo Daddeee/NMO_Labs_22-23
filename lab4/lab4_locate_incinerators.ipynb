{
  "nbformat": 4,
  "nbformat_minor": 0,
  "metadata": {
    "colab": {
      "provenance": []
    },
    "kernelspec": {
      "name": "python3",
      "display_name": "Python 3"
    },
    "language_info": {
      "name": "python"
    }
  },
  "cells": [
    {
      "cell_type": "markdown",
      "source": [
        "## Locate incinerators\n",
        "\n",
        "A city council must decide on the installation of some incinerators choosing from 10 areas $A1, . . . , A10$ near 7 cities $B1, . . . , B7$. The following table shows, in the boxes marked with “*”, if the area is close to a certain city. The second last line shows the capacity of a plant (in tonnes per year) and the last one the related installation cost, in millions of Euros:\n",
        "\n",
        "City/Areas|A1|A2|A3|A4|A5|A6|A7|A8|A9|A10\n",
        "----------|--|--|--|--|--|--|--|--|--|---\n",
        "B1| |*| | |*|*|*| |*| \n",
        "B2|*|*| |*| | | |*| | \n",
        "B3| | | | |*| | |*|*| \n",
        "B4|*| |*| |*| |*|*|*|* \n",
        "B5| | |*|*| | |*| | |* \n",
        "B6| |*| | | | | |*|*| \n",
        "B7| | |*|*| |*|*|*| |* \n",
        "Capacity ($b_j$)|450|720|580|460|660|390|510|1000|830|680\n",
        "Cost ($c_j$)|4|7|8|4|6|9|10|10|8|6\n",
        "\n",
        "Assuming that the administration does not want to place more than one plant near each city, formulate in terms of integer linear programming the problem of maximizing the total production capacity of the open plants. Solve the resulting formulation with mip. "
      ],
      "metadata": {
        "id": "SiO9p1Y8KfT4"
      }
    },
    {
      "cell_type": "code",
      "execution_count": null,
      "metadata": {
        "id": "SE6rF-SSEHzM"
      },
      "outputs": [],
      "source": [
        "!pip install --upgrade cffi==1.15.0\n",
        "import importlib\n",
        "import cffi\n",
        "importlib.reload(cffi)\n",
        "!pip install mip"
      ]
    },
    {
      "cell_type": "code",
      "source": [
        "import mip\n",
        "\n",
        "m = mip.Model()\n",
        "\n",
        "# Write here the model\n",
        "\n",
        "m.optimize()\n",
        "print(m.objective_value)"
      ],
      "metadata": {
        "id": "NBvOnMS6NVkI"
      },
      "execution_count": null,
      "outputs": []
    },
    {
      "cell_type": "markdown",
      "source": [
        "How do we have to change the formulation to impose that every city must have exactly one facility nearby?"
      ],
      "metadata": {
        "id": "Q95R7yg-NZui"
      }
    },
    {
      "cell_type": "code",
      "source": [],
      "metadata": {
        "id": "7BH0KUCQNdrv"
      },
      "execution_count": null,
      "outputs": []
    },
    {
      "cell_type": "markdown",
      "source": [
        "How do we change the formulation at the point 1 if it is necessary to keep the total cost of installation below a budget of 10 million Euros?"
      ],
      "metadata": {
        "id": "Py7o0k3sNeFl"
      }
    },
    {
      "cell_type": "code",
      "source": [],
      "metadata": {
        "id": "P-6qKVvkNnB5"
      },
      "execution_count": null,
      "outputs": []
    }
  ]
}