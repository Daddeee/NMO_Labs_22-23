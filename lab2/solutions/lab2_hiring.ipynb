{
  "cells": [
    {
      "cell_type": "markdown",
      "id": "aedd867f",
      "metadata": {
        "id": "aedd867f"
      },
      "source": [
        "## Hiring problem\n",
        "\n",
        "A company that deals with restorations must plan recruitment actions for the next five months.\n",
        "\n",
        "At first, the company has 20 skilled workers; every skilled worker provides 150 hours of work a\n",
        "month and receives a monthly salary of EUR 2,000.\n",
        "\n",
        "A newly recruited worker during the first month of service receives a salary of EUR 1,000 but he\n",
        "does not provide any useful work in practice; for this first month he is assisted by an experienced\n",
        "worker to teach the job.\n",
        "\n",
        "Every skilled worker who performs coaching provides for 70 hours of work per month instead of\n",
        "150 (due to time spent on coaching).\n",
        "\n",
        "After one month of training newly hired workers become experts, with equal ability to work and\n",
        "equal salary. \n",
        "\n",
        "The amount of hours of work to be covered for the next five months are 2000, 4000,\n",
        "5000, 7000, 3500, respectively. \n",
        "\n",
        "The management has also imposed restrictions on recruitment: in\n",
        "the next five months the company can hire a maximum of 20, 10, 15, 10 and 5 workers\n",
        "respectively.\n",
        "\n",
        "Use mip to formulate and solve the problem of finding a suitable recruitment\n",
        "plan to cover the hours of work for the given period at minimum staff cost."
      ]
    },
    {
      "cell_type": "markdown",
      "id": "ab3d8cda",
      "metadata": {
        "id": "ab3d8cda"
      },
      "source": [
        "### Parameters:\n",
        " * $M$ is the number of months to schedule\n",
        " * $r_i$ is the number of hours to cover in month $i \\in \\{1, . . . , M\\}$\n",
        " * $q_i$ is the maximum number of workers that can be recruited in month i\n",
        " * $N$ is the number of skilled workers at the beginning of the scheduling horizon\n",
        " * $h$ is the number of hours provided by a skilled worker\n",
        " * $k$ is the number of hours provided by a skilled worker that assists a newly recruited worker\n",
        " * $c$ is the salary of a skilled worker\n",
        " * $g$ is the salary of a newly recruited worker\n",
        "\n",
        "### Variables:\n",
        " * $x_i \\in \\mathbb Z_+$ is the number of workers hired in month i\n",
        " * $y_i \\in \\mathbb Z_+$ is the number of skilled workers available in month i\n",
        "\n",
        "### Model:\n",
        "$$\n",
        "\\begin{array}{llll}\n",
        "\\min & \\sum_{i=1}^{M}{(c_i y_i + g x_i)} \\\\\n",
        "\\textrm{s.t.} & h(y_i - x_i) + kx_i \\ge r_i &\\qquad \\forall i \\in \\{1,...,M\\} \\\\\n",
        "              & x_i \\le q_i &\\qquad \\forall i \\in \\{1,...,M\\}\\\\\n",
        "              & x_i \\le y_i &\\qquad \\forall i \\in \\{1,...,M\\}\\\\\n",
        "              & y_i = y_{i-1} + x_{i-1} &\\qquad \\forall i \\in \\{2,...,M\\}\\\\\n",
        "              & y_1 = N &\\qquad \\\\\n",
        "              & x_i, y_i \\in \\mathbb Z_+ &\\qquad \\forall i \\in \\{2,...,M\\}\n",
        "\\end{array}\n",
        "$$"
      ]
    },
    {
      "cell_type": "code",
      "execution_count": 1,
      "id": "cb844f4b",
      "metadata": {
        "colab": {
          "base_uri": "https://localhost:8080/",
          "height": 503
        },
        "id": "cb844f4b",
        "outputId": "7f4fab90-5507-4a92-9719-b151eb3f8cb7"
      },
      "outputs": [
        {
          "output_type": "stream",
          "name": "stdout",
          "text": [
            "Looking in indexes: https://pypi.org/simple, https://us-python.pkg.dev/colab-wheels/public/simple/\n",
            "Collecting cffi==1.15.0\n",
            "  Downloading cffi-1.15.0-cp37-cp37m-manylinux_2_12_x86_64.manylinux2010_x86_64.whl (427 kB)\n",
            "\u001b[K     |████████████████████████████████| 427 kB 4.1 MB/s \n",
            "\u001b[?25hRequirement already satisfied: pycparser in /usr/local/lib/python3.7/dist-packages (from cffi==1.15.0) (2.21)\n",
            "Installing collected packages: cffi\n",
            "  Attempting uninstall: cffi\n",
            "    Found existing installation: cffi 1.15.1\n",
            "    Uninstalling cffi-1.15.1:\n",
            "      Successfully uninstalled cffi-1.15.1\n",
            "Successfully installed cffi-1.15.0\n"
          ]
        },
        {
          "output_type": "display_data",
          "data": {
            "application/vnd.colab-display-data+json": {
              "pip_warning": {
                "packages": [
                  "cffi"
                ]
              }
            }
          },
          "metadata": {}
        },
        {
          "output_type": "stream",
          "name": "stdout",
          "text": [
            "Looking in indexes: https://pypi.org/simple, https://us-python.pkg.dev/colab-wheels/public/simple/\n",
            "Collecting mip\n",
            "  Downloading mip-1.14.1-py3-none-any.whl (15.3 MB)\n",
            "\u001b[K     |████████████████████████████████| 15.3 MB 3.5 MB/s \n",
            "\u001b[?25hRequirement already satisfied: cffi==1.15.0 in /usr/local/lib/python3.7/dist-packages (from mip) (1.15.0)\n",
            "Requirement already satisfied: pycparser in /usr/local/lib/python3.7/dist-packages (from cffi==1.15.0->mip) (2.21)\n",
            "Installing collected packages: mip\n",
            "Successfully installed mip-1.14.1\n"
          ]
        }
      ],
      "source": [
        "# When using Colab, make sure you run this instruction beforehand\n",
        "!pip install --upgrade cffi==1.15.0\n",
        "import importlib\n",
        "import cffi\n",
        "importlib.reload(cffi)\n",
        "!pip install mip"
      ]
    },
    {
      "cell_type": "code",
      "execution_count": 2,
      "id": "001b1e69",
      "metadata": {
        "id": "001b1e69"
      },
      "outputs": [],
      "source": [
        "M = 5\n",
        "r = [2000, 4000, 5000, 7000, 3500]\n",
        "q = [20, 10, 15, 10, 5]\n",
        "\n",
        "N = 20\n",
        "h = 150\n",
        "k = 70\n",
        "\n",
        "c = 2000\n",
        "g = 1000"
      ]
    },
    {
      "cell_type": "code",
      "execution_count": 4,
      "id": "d59f6107",
      "metadata": {
        "colab": {
          "base_uri": "https://localhost:8080/"
        },
        "id": "d59f6107",
        "outputId": "da065a7e-2ba7-4c4f-f514-e9c0ffd67749"
      },
      "outputs": [
        {
          "output_type": "stream",
          "name": "stdout",
          "text": [
            "395000.0\n",
            "[11.0, 8.0, 8.0, 0.0, 0.0]\n",
            "[20.0, 31.0, 39.0, 47.0, 47.0]\n"
          ]
        }
      ],
      "source": [
        "import mip\n",
        "\n",
        "m = mip.Model()\n",
        "\n",
        "x = [m.add_var(var_type=mip.INTEGER) for i in range(M)]\n",
        "y = [m.add_var(var_type=mip.INTEGER) for i in range(M)]\n",
        "\n",
        "for i in range(M):\n",
        "    m.add_constr(h * (y[i] - x[i]) + k * x[i] >= r[i])\n",
        "    m.add_constr(x[i] <= q[i])\n",
        "    m.add_constr(x[i] <= y[i])\n",
        "\n",
        "    if i == 0:\n",
        "        m.add_constr(y[i] == N)\n",
        "    else:\n",
        "        m.add_constr(y[i] == y[i-1] + x[i-1])\n",
        "\n",
        "m.objective = mip.minimize(c * mip.xsum(y) + g * mip.xsum(x))\n",
        "\n",
        "m.optimize()\n",
        "print(m.objective_value)\n",
        "print([x[i].x for i in range(M)])\n",
        "print([y[i].x for i in range(M)])"
      ]
    }
  ],
  "metadata": {
    "colab": {
      "collapsed_sections": [],
      "provenance": []
    },
    "kernelspec": {
      "display_name": "Python 3.10.8 64-bit",
      "language": "python",
      "name": "python3"
    },
    "language_info": {
      "codemirror_mode": {
        "name": "ipython",
        "version": 3
      },
      "file_extension": ".py",
      "mimetype": "text/x-python",
      "name": "python",
      "nbconvert_exporter": "python",
      "pygments_lexer": "ipython3",
      "version": "3.10.8"
    },
    "vscode": {
      "interpreter": {
        "hash": "e7370f93d1d0cde622a1f8e1c04877d8463912d04d973331ad4851f04de6915a"
      }
    }
  },
  "nbformat": 4,
  "nbformat_minor": 5
}