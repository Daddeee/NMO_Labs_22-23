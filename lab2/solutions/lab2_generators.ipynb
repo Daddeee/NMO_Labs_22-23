{
  "cells": [
    {
      "cell_type": "markdown",
      "id": "aedd867f",
      "metadata": {
        "id": "aedd867f"
      },
      "source": [
        "## Power generators\n",
        "\n",
        "A power plant, with three available power generators, must provide at least of 4000 MW during the day and 2800 MW during the night. The generators can be activated to produce energy for a whole day or only half of it. The activation costs of the generators vary depending on the time of day, due the different cost of staff, as reported in the table.\n",
        "\n",
        "Generator|Act. Cost Day|Act. Cost Night|Cost per MW\n",
        "---------|-------------|---------------|-----------\n",
        "Generator A|800|1200|4\n",
        "Generator B|700|1000|6\n",
        "Generator C|900|1400|7\n",
        "\n",
        "The activation costs for the full day are the sum of those of day and night. The maximum production capacity are as follows.\n",
        "\n",
        "Generator|Capacity (half day)|Capacity (full day)\n",
        "---------|-------------------|-------------------\n",
        "Generator A|2500|4000\n",
        "Generator B|2000|3000\n",
        "Generator C|3000|5000\n",
        "\n",
        "Half day indicates that the power generators is on either by day or by night, while the full day denotes that the generator is active both day and night. \n",
        "\n",
        "Use mip to formulate and solve the problem of minimizing the total cost, guaranteeing the indicated energy requirements."
      ]
    },
    {
      "cell_type": "markdown",
      "id": "ab3d8cda",
      "metadata": {
        "id": "ab3d8cda"
      },
      "source": [
        "### Sets:\n",
        " * $I$ is the set of generators.\n",
        "\n",
        "### Parameters:\n",
        " * $d^{d}$ is the demand of power during the day in MW\n",
        " * $d^{n}$ is the demand of power during the night in MW\n",
        " * $c_i$ is the cost per MW for generator $i \\in I$\n",
        " * $f^d_i$ is the activation cost for generator i during the day\n",
        " * $f^n_i$ is the activation cost for generator i during the night\n",
        " * $k^{h}_i$ is the maximum capacity of generator i for half a day\n",
        " * $k^{f}_i$ is the maximum capacity of generator i for the full day\n",
        "\n",
        "### Variables:\n",
        " * $x^d_i \\ge 0$ is the amount of power delivered by generator i during the day\n",
        " * $x^n_i \\ge 0$ is the amount of power delivered by generator i during the night\n",
        " * $y^d_i \\in \\{0, 1\\}$ is equal to 1 if generator i is active only during the day, 0 otherwise\n",
        " * $y^n_i \\in \\{0, 1\\}$ is equal to 1 if generator i is active only during the night, 0 otherwise\n",
        " * $z_i \\in \\{0, 1\\}$ is equal to 1 if generator i is active both during the day and the night, 0\n",
        "otherwise\n",
        "\n",
        "### Model:\n",
        "$$\n",
        "\\begin{array}{llll}\n",
        "\\min & \\sum_{i \\in I}{(c_i (x^d_i + x^n_i) + f^d_i (y^d_i + z_i) + f^n_i (y^n_i + z_i))} \\\\\n",
        "\\textrm{s.t.} & y^d_i + y^n_i + z_i \\le 1&\\qquad \\forall i \\in I \\\\\n",
        "              & \\sum_{i \\in I}{x^d_i} \\ge d^d &\\qquad\\\\\n",
        "              & \\sum_{i \\in I}{x^n_i} \\ge d^n &\\qquad\\\\\n",
        "              & x^d_i \\le k^h_i y^d_i + k^f_i z_i &\\qquad \\forall i \\in I \\\\\n",
        "              & x^n_i \\le k^h_i y^n_i + k^f_i z_i &\\qquad \\forall i \\in I \\\\\n",
        "              & x^d_i + x^n_i \\le k^h_i (1 - z_i) + k^f_i z_i &\\qquad \\forall i \\in I \\\\\n",
        "              & x^d_i, x^n_1 \\in \\mathbb R_+ &\\qquad \\forall i \\in I \\\\\n",
        "              & y^d_i, y^n_1, z_i \\in \\{0,1\\} &\\qquad \\forall i \\in I\n",
        "\\end{array}\n",
        "$$"
      ]
    },
    {
      "cell_type": "markdown",
      "id": "8d467074",
      "metadata": {
        "id": "8d467074"
      },
      "source": [
        "### Another formulation (we'll code this one):\n",
        "$$\n",
        "\\begin{array}{llll}\n",
        "\\min & \\sum_{i \\in I}{(c_i (x^d_i + x^n_i) + f^d_i (y^d_i + z_i) + f^n_i (y^n_i + z_i))} \\\\\n",
        "\\textrm{s.t.} & y^d_i + y^n_i + z_i \\le 1&\\qquad \\forall i \\in I \\\\\n",
        "              & \\sum_{i \\in I}{x^d_i} \\ge d^d &\\qquad\\\\\n",
        "              & \\sum_{i \\in I}{x^n_i} \\ge d^n &\\qquad\\\\\n",
        "              & x^d_i \\le k^h_i y^d_i + \\frac{k^f_i}{2} z_i &\\qquad \\forall i \\in I \\\\\n",
        "              & x^n_i \\le k^h_i y^n_i + \\frac{k^f_i}{2} z_i &\\qquad \\forall i \\in I \\\\\n",
        "              & x^d_i, x^n_1 \\in \\mathbb R_+ &\\qquad \\forall i \\in I \\\\\n",
        "              & y^d_i, y^n_1, z_i \\in \\{0,1\\} &\\qquad \\forall i \\in I\n",
        "\\end{array}\n",
        "$$"
      ]
    },
    {
      "cell_type": "code",
      "execution_count": 1,
      "id": "cb844f4b",
      "metadata": {
        "colab": {
          "base_uri": "https://localhost:8080/",
          "height": 503
        },
        "id": "cb844f4b",
        "outputId": "35d4f847-10a5-4e83-b5f7-b152d2162bf4"
      },
      "outputs": [
        {
          "name": "stdout",
          "output_type": "stream",
          "text": [
            "Looking in indexes: https://pypi.org/simple, https://us-python.pkg.dev/colab-wheels/public/simple/\n",
            "Collecting cffi==1.15.0\n",
            "  Downloading cffi-1.15.0-cp37-cp37m-manylinux_2_12_x86_64.manylinux2010_x86_64.whl (427 kB)\n",
            "\u001b[K     |████████████████████████████████| 427 kB 15.4 MB/s \n",
            "\u001b[?25hRequirement already satisfied: pycparser in /usr/local/lib/python3.7/dist-packages (from cffi==1.15.0) (2.21)\n",
            "Installing collected packages: cffi\n",
            "  Attempting uninstall: cffi\n",
            "    Found existing installation: cffi 1.15.1\n",
            "    Uninstalling cffi-1.15.1:\n",
            "      Successfully uninstalled cffi-1.15.1\n",
            "Successfully installed cffi-1.15.0\n"
          ]
        },
        {
          "data": {
            "application/vnd.colab-display-data+json": {
              "pip_warning": {
                "packages": [
                  "cffi"
                ]
              }
            }
          },
          "metadata": {},
          "output_type": "display_data"
        },
        {
          "name": "stdout",
          "output_type": "stream",
          "text": [
            "Looking in indexes: https://pypi.org/simple, https://us-python.pkg.dev/colab-wheels/public/simple/\n",
            "Collecting mip\n",
            "  Downloading mip-1.14.1-py3-none-any.whl (15.3 MB)\n",
            "\u001b[K     |████████████████████████████████| 15.3 MB 14.1 MB/s \n",
            "\u001b[?25hRequirement already satisfied: cffi==1.15.0 in /usr/local/lib/python3.7/dist-packages (from mip) (1.15.0)\n",
            "Requirement already satisfied: pycparser in /usr/local/lib/python3.7/dist-packages (from cffi==1.15.0->mip) (2.21)\n",
            "Installing collected packages: mip\n",
            "Successfully installed mip-1.14.1\n"
          ]
        }
      ],
      "source": [
        "# When using Colab, make sure you run this instruction beforehand\n",
        "!pip install --upgrade cffi==1.15.0\n",
        "import importlib\n",
        "import cffi\n",
        "importlib.reload(cffi)\n",
        "!pip install mip"
      ]
    },
    {
      "cell_type": "code",
      "execution_count": 2,
      "id": "001b1e69",
      "metadata": {
        "id": "001b1e69"
      },
      "outputs": [],
      "source": [
        "n_generators = 3\n",
        "I = list(range(n_generators))\n",
        "\n",
        "d_day = 4000 # [Mw]\n",
        "d_night = 2800 # [Mw]\n",
        "\n",
        "c = [4, 6, 7] # [$/Mw]\n",
        "\n",
        "f_day = [800, 700, 900] # [$]\n",
        "f_night = [1200, 1000, 1400] # [$]\n",
        "\n",
        "k_half = [2500, 2000, 3000] # [Mw]\n",
        "k_full = [4000, 3000, 5000] # [Mw]"
      ]
    },
    {
      "cell_type": "code",
      "execution_count": 6,
      "id": "d59f6107",
      "metadata": {
        "colab": {
          "base_uri": "https://localhost:8080/"
        },
        "id": "d59f6107",
        "outputId": "4f266a24-8a28-4024-8f9e-00950b49bd8f"
      },
      "outputs": [
        {
          "name": "stdout",
          "output_type": "stream",
          "text": [
            "37700.0\n",
            "[2000.0, 2000.0, 0.0]\n",
            "[2000.0, 0.0, 800.0]\n"
          ]
        }
      ],
      "source": [
        "import mip\n",
        "\n",
        "m = mip.Model()\n",
        "\n",
        "x_day = [m.add_var() for i in I]\n",
        "x_night = [m.add_var() for i in I]\n",
        "\n",
        "y_day = [m.add_var(var_type=mip.BINARY) for i in I]\n",
        "y_night = [m.add_var(var_type=mip.BINARY) for i in I]\n",
        "z = [m.add_var(var_type=mip.BINARY) for i in I]\n",
        "\n",
        "m.add_constr(mip.xsum(x_day[i] for i in I) >= d_day)\n",
        "m.add_constr(mip.xsum(x_night[i] for i in I) >= d_night)\n",
        "\n",
        "for i in I:\n",
        "    m.add_constr(y_day[i] + y_night[i] + z[i] <= 1)\n",
        "    m.add_constr(x_day[i] <= k_half[i] * y_day[i] + 0.5 * k_full[i] * z[i])\n",
        "    m.add_constr(x_night[i] <= k_half[i] * y_night[i] + 0.5 * k_full[i] * z[i])\n",
        "\n",
        "m.objective = mip.minimize(mip.xsum(c[i]*(x_day[i] + x_night[i]) + f_day[i]*(y_day[i] + z[i]) + f_night[i]*(y_night[i] + z[i]) for i in I))\n",
        "\n",
        "m.optimize()\n",
        "print(m.objective_value)\n",
        "print([x_day[i].x for i in I])\n",
        "print([x_night[i].x for i in I])"
      ]
    }
  ],
  "metadata": {
    "colab": {
      "collapsed_sections": [],
      "provenance": []
    },
    "kernelspec": {
      "display_name": "Python 3.10.8 64-bit",
      "language": "python",
      "name": "python3"
    },
    "language_info": {
      "codemirror_mode": {
        "name": "ipython",
        "version": 3
      },
      "file_extension": ".py",
      "mimetype": "text/x-python",
      "name": "python",
      "nbconvert_exporter": "python",
      "pygments_lexer": "ipython3",
      "version": "3.10.8"
    },
    "vscode": {
      "interpreter": {
        "hash": "e7370f93d1d0cde622a1f8e1c04877d8463912d04d973331ad4851f04de6915a"
      }
    }
  },
  "nbformat": 4,
  "nbformat_minor": 5
}
