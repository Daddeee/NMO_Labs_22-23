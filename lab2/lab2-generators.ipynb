{
 "cells": [
  {
   "cell_type": "markdown",
   "id": "aedd867f",
   "metadata": {},
   "source": [
    "## Power generators\n",
    "\n",
    "A power plant, with three available power generators, must provide at least of 4000 MW during the day and 2800 MW during the night. The generators can be activated to produce energy for a whole day or only half of it. The activation costs of the generators vary depending on the time of day, due the different cost of staff, as reported in the table.\n",
    "\n",
    "Generator|Act. Cost Day|Act. Cost Night|Cost per MW\n",
    "---------|-------------|---------------|-----------\n",
    "Generator A|800|1200|4\n",
    "Generator B|700|1000|6\n",
    "Generator C|900|1400|7\n",
    "\n",
    "The activation costs for the full day are the sum of those of day and night. The maximum production capacity are as follows.\n",
    "\n",
    "Generator|Capacity (half day)|Capacity (full day)\n",
    "---------|-------------------|-------------------\n",
    "Generator A|2500|4000\n",
    "Generator B|2000|3000\n",
    "Generator C|3000|5000\n",
    "\n",
    "Half day indicates that the power generators is on either by day or by night, while the full day denotes that the generator is active both day and night. \n",
    "\n",
    "Use mip to formulate and solve the problem of minimizing the total cost, guaranteeing the indicated energy requirements."
   ]
  },
  {
   "cell_type": "code",
   "execution_count": null,
   "id": "e2783667",
   "metadata": {},
   "outputs": [],
   "source": [
    "# When using Colab, make sure you run this instruction beforehand\n",
    "!pip install --upgrade cffi==1.15.0\n",
    "import importlib\n",
    "import cffi\n",
    "importlib.reload(cffi)\n",
    "!pip install mip"
   ]
  },
  {
   "cell_type": "code",
   "execution_count": null,
   "id": "001b1e69",
   "metadata": {},
   "outputs": [],
   "source": [
    "# Setup your parameters"
   ]
  },
  {
   "cell_type": "code",
   "execution_count": null,
   "id": "d59f6107",
   "metadata": {},
   "outputs": [],
   "source": [
    "import mip\n",
    "\n",
    "m = mip.Model()\n",
    "\n",
    "# Write here the model\n",
    "\n",
    "m.optimize()\n",
    "print(m.objective_value)"
   ]
  }
 ],
 "metadata": {
  "kernelspec": {
   "display_name": "Python 3.10.8 64-bit",
   "language": "python",
   "name": "python3"
  },
  "language_info": {
   "codemirror_mode": {
    "name": "ipython",
    "version": 3
   },
   "file_extension": ".py",
   "mimetype": "text/x-python",
   "name": "python",
   "nbconvert_exporter": "python",
   "pygments_lexer": "ipython3",
   "version": "3.10.8"
  },
  "vscode": {
   "interpreter": {
    "hash": "e7370f93d1d0cde622a1f8e1c04877d8463912d04d973331ad4851f04de6915a"
   }
  }
 },
 "nbformat": 4,
 "nbformat_minor": 5
}
