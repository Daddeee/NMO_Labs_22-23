{
 "cells": [
  {
   "cell_type": "markdown",
   "id": "aedd867f",
   "metadata": {},
   "source": [
    "## Hiring problem\n",
    "\n",
    "A company that deals with restorations must plan recruitment actions for the next five months.\n",
    "\n",
    "At first, the company has 20 skilled workers; every skilled worker provides 150 hours of work a\n",
    "month and receives a monthly salary of EUR 2,000.\n",
    "\n",
    "A newly recruited worker during the first month of service receives a salary of EUR 1,000 but he\n",
    "does not provide any useful work in practice; for this first month he is assisted by an experienced\n",
    "worker to teach the job.\n",
    "\n",
    "Every skilled worker who performs coaching provides for 70 hours of work per month instead of\n",
    "150 (due to time spent on coaching).\n",
    "\n",
    "After one month of training newly hired workers become experts, with equal ability to work and\n",
    "equal salary. \n",
    "\n",
    "The amount of hours of work to be covered for the next five months are 2000, 4000,\n",
    "5000, 7000, 3500, respectively. \n",
    "\n",
    "The management has also imposed restrictions on recruitment: in\n",
    "the next five months the company can hire a maximum of 20, 10, 15, 10 and 5 workers\n",
    "respectively.\n",
    "\n",
    "Use mip to formulate and solve the problem of finding a suitable recruitment\n",
    "plan to cover the hours of work for the given period at minimum staff cost."
   ]
  },
  {
   "cell_type": "code",
   "execution_count": null,
   "id": "e2783667",
   "metadata": {},
   "outputs": [],
   "source": [
    "# When using Colab, make sure you run this instruction beforehand\n",
    "!pip install --upgrade cffi==1.15.0\n",
    "import importlib\n",
    "import cffi\n",
    "importlib.reload(cffi)\n",
    "!pip install mip"
   ]
  },
  {
   "cell_type": "code",
   "execution_count": null,
   "id": "001b1e69",
   "metadata": {},
   "outputs": [],
   "source": [
    "# Setup your parameters"
   ]
  },
  {
   "cell_type": "code",
   "execution_count": null,
   "id": "d59f6107",
   "metadata": {},
   "outputs": [],
   "source": [
    "import mip\n",
    "\n",
    "m = mip.Model()\n",
    "\n",
    "# Write here the model\n",
    "\n",
    "m.optimize()\n",
    "print(m.objective_value)"
   ]
  }
 ],
 "metadata": {
  "kernelspec": {
   "display_name": "Python 3.10.8 64-bit",
   "language": "python",
   "name": "python3"
  },
  "language_info": {
   "codemirror_mode": {
    "name": "ipython",
    "version": 3
   },
   "file_extension": ".py",
   "mimetype": "text/x-python",
   "name": "python",
   "nbconvert_exporter": "python",
   "pygments_lexer": "ipython3",
   "version": "3.10.8"
  },
  "vscode": {
   "interpreter": {
    "hash": "e7370f93d1d0cde622a1f8e1c04877d8463912d04d973331ad4851f04de6915a"
   }
  }
 },
 "nbformat": 4,
 "nbformat_minor": 5
}
